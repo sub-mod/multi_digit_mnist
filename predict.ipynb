{
 "cells": [
  {
   "cell_type": "code",
   "execution_count": 41,
   "metadata": {},
   "outputs": [],
   "source": [
    "import cv2\n",
    "#https://scikit-learn.org/stable/modules/model_persistence.html\n",
    "from joblib import dump, load\n",
    "from skimage.feature import hog\n",
    "import imutils\n",
    "import numpy as np\n",
    "import matplotlib.pyplot as plt\n",
    "%matplotlib inline"
   ]
  },
  {
   "cell_type": "code",
   "execution_count": 42,
   "metadata": {},
   "outputs": [],
   "source": [
    "IMAGE = \"322.png\"\n",
    "MODEL = \"./bkp/digits3_svm.pkl\"\n",
    "clf = load(MODEL) \n",
    "\n",
    "# 85 (290, 288, 3)"
   ]
  },
  {
   "cell_type": "code",
   "execution_count": 43,
   "metadata": {},
   "outputs": [
    {
     "name": "stdout",
     "output_type": "stream",
     "text": [
      "(280, 286, 3)\n"
     ]
    },
    {
     "data": {
      "image/png": "[encoded data removed]",
      "text/plain": [
       "<Figure size 432x288 with 1 Axes>"
      ]
     },
     "metadata": {
      "needs_background": "light"
     },
     "output_type": "display_data"
    }
   ],
   "source": [
    "input_image = cv2.imread(IMAGE)\n",
    "print(input_image.shape)\n",
    "# input_image = cv2.resize(input_image, (600, 600), interpolation=cv2.INTER_AREA)\n",
    "# print(input_image.shape)\n",
    "plt.imshow(input_image)\n",
    "plt.show()"
   ]
  },
  {
   "cell_type": "code",
   "execution_count": 44,
   "metadata": {},
   "outputs": [],
   "source": [
    "import numpy as np\n",
    "import argparse\n",
    "import imutils\n",
    "import cv2\n",
    "def sort_contours(cnts, method=\"left-to-right\"):\n",
    "    # initialize the reverse flag and sort index\n",
    "    reverse = False\n",
    "    i = 0\n",
    "    # handle if we need to sort in reverse\n",
    "    if method == \"right-to-left\" or method == \"bottom-to-top\":\n",
    "        reverse = True\n",
    "    # handle if we are sorting against the y-coordinate rather than\n",
    "    # the x-coordinate of the bounding box\n",
    "    if method == \"top-to-bottom\" or method == \"bottom-to-top\":\n",
    "        i = 1\n",
    "    # construct the list of bounding boxes and sort them from top to\n",
    "    # bottom\n",
    "    boundingBoxes = [cv2.boundingRect(c) for c in cnts]\n",
    "    (cnts, boundingBoxes) = zip(*sorted(zip(cnts, boundingBoxes),\n",
    "        key=lambda b:b[1][i], reverse=reverse))\n",
    "    # return the list of sorted contours and bounding boxes\n",
    "    return (cnts, boundingBoxes)"
   ]
  },
  {
   "cell_type": "code",
   "execution_count": 45,
   "metadata": {},
   "outputs": [
    {
     "name": "stdout",
     "output_type": "stream",
     "text": [
      "(280, 286, 3)\n"
     ]
    },
    {
     "data": {
      "image/png": "[encoded data removed]",
      "text/plain": [
       "<Figure size 432x288 with 1 Axes>"
      ]
     },
     "metadata": {
      "needs_background": "light"
     },
     "output_type": "display_data"
    },
    {
     "name": "stdout",
     "output_type": "stream",
     "text": [
      "((0, 0, 1, 280), (52, 40, 81, 160), (152, 40, 70, 150))\n"
     ]
    }
   ],
   "source": [
    "input_image = cv2.imread(IMAGE)\n",
    "print(input_image.shape)\n",
    "#im = cv2.resize(im, (600, 600), interpolation=cv2.INTER_AREA)\n",
    "#print(im.shape)\n",
    "plt.imshow(input_image)\n",
    "plt.show()\n",
    "\n",
    "# Convert to grayscale and Gaussian filtering\n",
    "input_image_gray = cv2.cvtColor(input_image, cv2.COLOR_BGR2GRAY)\n",
    "input_image_gray = cv2.GaussianBlur(input_image_gray, (5, 5), 0)\n",
    "# Threshold the image\n",
    "ret, processed_image = cv2.threshold(input_image_gray, 90, 255, cv2.THRESH_BINARY_INV)\n",
    "\n",
    "# Find contours in the image\n",
    "contours, hier = cv2.findContours(processed_image.copy(), cv2.RETR_EXTERNAL, cv2.CHAIN_APPROX_SIMPLE)\n",
    "\n",
    "(ctrs, boundingBoxes) = sort_contours(contours)\n",
    "# Get rectangles contains each contour\n",
    "#boundingBoxes = [cv2.boundingRect(ctr) for ctr in ctrs]\n",
    "print(boundingBoxes)"
   ]
  },
  {
   "cell_type": "code",
   "execution_count": 46,
   "metadata": {},
   "outputs": [
    {
     "data": {
      "text/plain": [
       "3"
      ]
     },
     "execution_count": 46,
     "metadata": {},
     "output_type": "execute_result"
    }
   ],
   "source": [
    "len(boundingBoxes)"
   ]
  },
  {
   "cell_type": "code",
   "execution_count": 47,
   "metadata": {},
   "outputs": [
    {
     "name": "stdout",
     "output_type": "stream",
     "text": [
      "pt1= 48\n",
      "pt2= 20\n",
      "leng= 144\n"
     ]
    },
    {
     "data": {
      "image/png": "[encoded data removed]",
      "text/plain": [
       "<Figure size 432x288 with 1 Axes>"
      ]
     },
     "metadata": {
      "needs_background": "light"
     },
     "output_type": "display_data"
    },
    {
     "name": "stdout",
     "output_type": "stream",
     "text": [
      "(28, 28)\n",
      "pt1= 48\n",
      "pt2= 120\n",
      "leng= 135\n"
     ]
    },
    {
     "data": {
      "image/png": "[encoded data removed]",
      "text/plain": [
       "<Figure size 432x288 with 1 Axes>"
      ]
     },
     "metadata": {
      "needs_background": "light"
     },
     "output_type": "display_data"
    },
    {
     "name": "stdout",
     "output_type": "stream",
     "text": [
      "(28, 28)\n"
     ]
    }
   ],
   "source": [
    "for rect in boundingBoxes:\n",
    "    if rect[2] <=10:\n",
    "        continue\n",
    "    # Draw the rectangles\n",
    "    ## cv2.rectangle(image, start_point, end_point, color, thickness) \n",
    "    ## Axis: X axis and Y axis is inverted \n",
    "    ## x = rect[0] \n",
    "    ## y = rect[1]\n",
    "    ## deltax = rect[2]\n",
    "    ## deltay = rect[3]\n",
    "    pimage = cv2.rectangle(input_image, (rect[0], rect[1]), (rect[0] + rect[2], rect[1] + rect[3]), (0, 255, 0), 3) \n",
    "#     print(pimage.shape)\n",
    "#     plt.imshow(pimage)\n",
    "#     plt.show()\n",
    "    leng = int(rect[3] * 0.9)\n",
    "    pt1 = int(rect[1] + rect[3] // 2 - leng // 2)\n",
    "    pt2 = int(rect[0] + rect[2] // 2 - leng // 2)\n",
    "    print(\"pt1=\", pt1)\n",
    "    print(\"pt2=\", pt2)\n",
    "    print(\"leng=\", leng)\n",
    "    roi = processed_image[pt1:pt1+leng, pt2:pt2+leng]\n",
    "#     plt.imshow(roi)\n",
    "#     plt.show()\n",
    "    roi = cv2.resize(roi, (28, 28), interpolation=cv2.INTER_AREA)\n",
    "#     plt.imshow(roi)\n",
    "#     plt.show()\n",
    "    roi = cv2.dilate(roi, (3, 3))\n",
    "    plt.imshow(roi)\n",
    "    plt.show()\n",
    "    print(roi.shape)\n",
    "    #predicted = classifier.predict(roi)\n",
    "    #print(predicted)"
   ]
  },
  {
   "cell_type": "code",
   "execution_count": 48,
   "metadata": {},
   "outputs": [
    {
     "data": {
      "image/png": "[encoded data removed]",
      "text/plain": [
       "<Figure size 432x288 with 1 Axes>"
      ]
     },
     "metadata": {
      "needs_background": "light"
     },
     "output_type": "display_data"
    },
    {
     "name": "stdout",
     "output_type": "stream",
     "text": [
      "(28, 28)\n",
      "3\n"
     ]
    },
    {
     "data": {
      "image/png": "[encoded data removed]",
      "text/plain": [
       "<Figure size 432x288 with 1 Axes>"
      ]
     },
     "metadata": {
      "needs_background": "light"
     },
     "output_type": "display_data"
    },
    {
     "name": "stdout",
     "output_type": "stream",
     "text": [
      "(28, 28)\n",
      "2\n"
     ]
    }
   ],
   "source": [
    "final_num = \"\"\n",
    "for rect in boundingBoxes:\n",
    "    if rect[2] <=10:\n",
    "        continue\n",
    "    # Draw the rectangles\n",
    "    pimage = cv2.rectangle(input_image, (rect[0], rect[1]), (rect[0] + rect[2], rect[1] + rect[3]), (0, 255, 0), 3) \n",
    "    # Make the rectangular region around the digit\n",
    "    leng = int(rect[3] * 1.1)\n",
    "    pt1 = int(rect[1] + rect[3] // 2 - leng // 2)\n",
    "    pt2 = int(rect[0] + rect[2] // 2 - leng // 2)\n",
    "    roi = processed_image[pt1:pt1+leng, pt2:pt2+leng]\n",
    "    # Resize the image\n",
    "    roi = cv2.resize(roi, (28, 28), interpolation=cv2.INTER_AREA)\n",
    "    roi = cv2.dilate(roi, (3, 3))\n",
    "    plt.imshow(roi)\n",
    "    plt.show()\n",
    "    print(roi.shape)\n",
    "    # Calculate the HOG features\n",
    "    #roi_hog_fd = hog(roi, orientations=9, pixels_per_cell=(14, 14), cells_per_block=(1, 1))\n",
    "    roi_hog_fd = hog(roi, orientations=9, pixels_per_cell=(4, 4), cells_per_block=(2, 2))\n",
    "    #print(roi_hog_fd.shape)\n",
    "    nbr = clf.predict(np.array([roi_hog_fd], 'float64'))\n",
    "    final_num+=str(nbr[0])\n",
    "    print(nbr[0])\n",
    "    cv2.putText(input_image, str(int(nbr[0])), (rect[0], rect[1]),cv2.FONT_HERSHEY_DUPLEX, 2, (0, 255, 255), 3)"
   ]
  },
  {
   "cell_type": "code",
   "execution_count": 49,
   "metadata": {},
   "outputs": [
    {
     "data": {
      "image/png": "[encoded data removed]",
      "text/plain": [
       "<Figure size 432x288 with 1 Axes>"
      ]
     },
     "metadata": {
      "needs_background": "light"
     },
     "output_type": "display_data"
    },
    {
     "name": "stdout",
     "output_type": "stream",
     "text": [
      "32\n"
     ]
    }
   ],
   "source": [
    "plt.imshow(input_image)\n",
    "plt.show()\n",
    "print(final_num)"
   ]
  },
  {
   "cell_type": "code",
   "execution_count": null,
   "metadata": {},
   "outputs": [],
   "source": []
  }
 ],
 "metadata": {
  "kernelspec": {
   "display_name": "Python 3",
   "language": "python",
   "name": "python3"
  },
  "language_info": {
   "codemirror_mode": {
    "name": "ipython",
    "version": 3
   },
   "file_extension": ".py",
   "mimetype": "text/x-python",
   "name": "python",
   "nbconvert_exporter": "python",
   "pygments_lexer": "ipython3",
   "version": "3.6.5"
  }
 },
 "nbformat": 4,
 "nbformat_minor": 4
}
